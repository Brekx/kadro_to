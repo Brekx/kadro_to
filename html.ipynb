{
 "cells": [
  {
   "cell_type": "code",
   "execution_count": null,
   "metadata": {},
   "outputs": [],
   "source": [
    "import json\n",
    "with open(\"savings.json\", 'r') as inputfile:\n",
    "  try:\n",
    "    base = json.load(inputfile)\n",
    "  except:\n",
    "    base = {}"
   ]
  },
  {
   "cell_type": "code",
   "execution_count": null,
   "metadata": {},
   "outputs": [],
   "source": [
    "def getActualSchedule(dtstart, dtend):\n",
    "  import urllib3\n",
    "  http = urllib3.PoolManager()\n",
    "  has_key = False\n",
    "  for key in base.keys():\n",
    "    if key == 'credentials':\n",
    "      has_key = True\n",
    "  if has_key:\n",
    "    has_key = False\n",
    "    for key in base['credentials'].keys():\n",
    "      if key == 'authToken':\n",
    "        has_key = True\n",
    "  if not has_key or base['credentials']['authToken'] == \"\":\n",
    "    r = http.request('POST', 'https://api.kadromierz.pl/security/authentication', fields={'email':base['credentials']['email'], 'password':base['credentials']['password']})\n",
    "    base['credentials']['authToken'] = json.loads(r.data.decode('utf8').replace(\"'\", '\"'))['auth_token']\n",
    "    print(\"Renewing auth token\")\n",
    "  http.headers['Authorization'] = 'AUTH-TOKEN token=\"' + base['credentials']['authToken'] + '\"'\n",
    "  start = str(dtstart.year) + '-' + str(dtstart.month) + '-' + str(dtstart.day)\n",
    "  end = str(dtend.year) + '-' + str(dtend.month) + '-' + str(dtend.day)\n",
    "  r = http.request('GET', 'https://api.kadromierz.pl/locations/7738/schedule?from=' + start + '&to=' + end + '&show_drafts=false')\n",
    "  if r.status != 200 and r.status != 404:\n",
    "    base['credentials']['authToken'] = \"\"\n",
    "  return json.loads(r.data.decode('utf8').replace(\"'\", '\"'))"
   ]
  },
  {
   "cell_type": "code",
   "execution_count": null,
   "metadata": {},
   "outputs": [],
   "source": [
    "def getCalendarForEmp(empID: int):\n",
    "  from datetime import datetime, timedelta\n",
    "  s = datetime.today()\n",
    "  e = s + timedelta(7)\n",
    "  schedule = getActualSchedule(s, e)\n",
    "  emp = None\n",
    "  for e in schedule['schedule']['employees']:\n",
    "    if int(e['id']) == empID:\n",
    "      emp = e\n",
    "      break\n",
    "  if emp == None:\n",
    "    print(\"No employeee\")\n",
    "    return 0\n",
    "  calendar = []\n",
    "  for shift in emp['shifts_for_other_locations']:\n",
    "    start = datetime(int(shift['start_timestamp'][0:4]), int(shift['start_timestamp'][5:7]), int(shift['start_timestamp'][8:10]), int(shift['start_timestamp'][11:13]), int(shift['start_timestamp'][14:16]), int(shift['start_timestamp'][17:19]))\n",
    "    end = datetime(int(shift['end_timestamp'][0:4]), int(shift['end_timestamp'][5:7]), int(shift['end_timestamp'][8:10]), int(shift['end_timestamp'][11:13]), int(shift['end_timestamp'][14:16]), int(shift['end_timestamp'][17:19]))\n",
    "    new_event = {'dtstart' : start, 'dtend' : end, 'location' : shift['job_title']['title']}\n",
    "    calendar.append(new_event)\n",
    "  return calendar"
   ]
  }
 ],
 "metadata": {
  "interpreter": {
   "hash": "3d6fb09157116d5570b8e1544f2c9dc2cbe795ba25826bfcdf42b1a5b6d27d59"
  },
  "kernelspec": {
   "display_name": "Python 3.8.5 64-bit ('HTML': venv)",
   "name": "python3"
  },
  "language_info": {
   "codemirror_mode": {
    "name": "ipython",
    "version": 3
   },
   "file_extension": ".py",
   "mimetype": "text/x-python",
   "name": "python",
   "nbconvert_exporter": "python",
   "pygments_lexer": "ipython3",
   "version": "3.8.5"
  },
  "orig_nbformat": 4
 },
 "nbformat": 4,
 "nbformat_minor": 2
}
