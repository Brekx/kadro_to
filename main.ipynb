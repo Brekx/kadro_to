{
 "cells": [
  {
   "cell_type": "code",
   "execution_count": 1,
   "metadata": {},
   "outputs": [],
   "source": [
    "import icalendar as ical\n",
    "import pytz\n",
    "from datetime import datetime\n",
    "cal = ical.Calendar()\n",
    "cal.add('prodid', '-//My calendar product//mxm.dk//')\n",
    "cal.add('version', '2.0')"
   ]
  },
  {
   "cell_type": "code",
   "execution_count": 2,
   "metadata": {},
   "outputs": [],
   "source": [
    "def createEvent(location, dateStart, dateEnd):\n",
    "  event = ical.Event()\n",
    "  event.add('summary', 'Cinemacity Work')\n",
    "  event.add('dtstart', dateStart)\n",
    "  event.add('dtend', dateEnd)\n",
    "  event['location'] = ical.vText(location)\n",
    "  return event"
   ]
  },
  {
   "cell_type": "code",
   "execution_count": null,
   "metadata": {},
   "outputs": [],
   "source": [
    "def addEvent(event):\n",
    "  cal.add_component(event)"
   ]
  },
  {
   "cell_type": "code",
   "execution_count": 4,
   "metadata": {},
   "outputs": [],
   "source": [
    "def saveCal():\n",
    "  with open(\"cal.ics\", 'wb') as f:\n",
    "    f.write(cal.to_ical())"
   ]
  }
 ],
 "metadata": {
  "interpreter": {
   "hash": "3d6fb09157116d5570b8e1544f2c9dc2cbe795ba25826bfcdf42b1a5b6d27d59"
  },
  "kernelspec": {
   "display_name": "Python 3.8.5 64-bit ('HTML': venv)",
   "name": "python3"
  },
  "language_info": {
   "codemirror_mode": {
    "name": "ipython",
    "version": 3
   },
   "file_extension": ".py",
   "mimetype": "text/x-python",
   "name": "python",
   "nbconvert_exporter": "python",
   "pygments_lexer": "ipython3",
   "version": "3.8.5"
  },
  "orig_nbformat": 4
 },
 "nbformat": 4,
 "nbformat_minor": 2
}
