{
 "cells": [
  {
   "cell_type": "code",
   "execution_count": 1,
   "source": [
    "import icalendar as ical\n",
    "import pytz\n",
    "from datetime import datetime\n",
    "cal = ical.Calendar()\n",
    "cal.add('prodid', '-//My calendar product//mxm.dk//')\n",
    "cal.add('version', '2.0')"
   ],
   "outputs": [],
   "metadata": {}
  },
  {
   "cell_type": "code",
   "execution_count": 2,
   "source": [
    "def createEvent(location, dateStart, dateEnd):\n",
    "  event = ical.Event()\n",
    "  event.add('summary', 'Cinemacity Work')\n",
    "  event.add('dtstart', dateStart)\n",
    "  event.add('dtend', dateEnd)\n",
    "  event['location'] = ical.vText(location)\n",
    "  return event"
   ],
   "outputs": [],
   "metadata": {}
  },
  {
   "cell_type": "code",
   "execution_count": 3,
   "source": [
    "cal.add_component(createEvent('ushers', datetime(2021, 10, 14, 21, 0, 0, ), datetime(2021, 10, 14, 23, 0)))"
   ],
   "outputs": [],
   "metadata": {}
  },
  {
   "cell_type": "code",
   "execution_count": 4,
   "source": [
    "with open(\"cal.ics\", 'wb') as f:\n",
    "  f.write(cal.to_ical())"
   ],
   "outputs": [],
   "metadata": {}
  }
 ],
 "metadata": {
  "orig_nbformat": 4,
  "language_info": {
   "name": "python",
   "version": "3.8.5",
   "mimetype": "text/x-python",
   "codemirror_mode": {
    "name": "ipython",
    "version": 3
   },
   "pygments_lexer": "ipython3",
   "nbconvert_exporter": "python",
   "file_extension": ".py"
  },
  "kernelspec": {
   "name": "python3",
   "display_name": "Python 3.8.5 64-bit ('HTML': venv)"
  },
  "interpreter": {
   "hash": "3d6fb09157116d5570b8e1544f2c9dc2cbe795ba25826bfcdf42b1a5b6d27d59"
  }
 },
 "nbformat": 4,
 "nbformat_minor": 2
}