{
 "cells": [
  {
   "cell_type": "code",
   "execution_count": null,
   "metadata": {},
   "outputs": [],
   "source": [
    "import pyautogui as au\n",
    "import pyperclip\n",
    "import json"
   ]
  },
  {
   "cell_type": "code",
   "execution_count": null,
   "metadata": {},
   "outputs": [],
   "source": [
    "calendarShare = au.Point(129, 329)\n",
    "Share = au.Point(x=416, y=245)\n",
    "ok = au.Point(x=794, y=528)\n",
    "integrate = au.Point(x=114, y=576)\n",
    "copyplace = au.Point(x=531, y=558)\n",
    "nextCal = au.Point(x=136, y=650)\n",
    "name = au.Point(x=487, y=252)"
   ]
  },
  {
   "cell_type": "code",
   "execution_count": null,
   "metadata": {},
   "outputs": [],
   "source": [
    "def getP(ix, iy):\n",
    "  s = au.screenshot()\n",
    "  coordinate = x, y = (ix/1439)*2880, (iy/896)*1800\n",
    "  return s.getpixel(coordinate)"
   ]
  },
  {
   "cell_type": "code",
   "execution_count": null,
   "metadata": {},
   "outputs": [],
   "source": [
    "def getCalendar():\n",
    "  if getP(ix=374, iy=118) != (255, 255, 255, 255):\n",
    "    throw(\"Error\")\n",
    "  # au.leftClick(name.x, name.y)\n",
    "  # au.sleep(.5)\n",
    "  au.hotkey('command', 'a')\n",
    "  au.sleep(.5)\n",
    "  au.hotkey('command', 'c')\n",
    "  nameS = pyperclip.paste()\n",
    "  au.leftClick(calendarShare.x, calendarShare.y)\n",
    "  au.sleep(2)\n",
    "  \n",
    "  if getP(423, 252) == (255, 255, 255, 255):\n",
    "    au.leftClick(Share.x, Share.y)\n",
    "    au.sleep(1)\n",
    "    au.leftClick(ok.x, ok.y)\n",
    "    au.sleep(1)\n",
    "\n",
    "  au.leftClick(integrate.x, integrate.y)\n",
    "  au.sleep(2)\n",
    "  au.leftClick(copyplace.x, copyplace.y)\n",
    "  au.sleep(2)\n",
    "  au.hotkey('command', 'a')\n",
    "  au.hotkey('command', 'c')\n",
    "  link = pyperclip.paste()\n",
    "  au.sleep(2)\n",
    "  au.leftClick(nextCal.x, nextCal.y)\n",
    "  au.sleep(2)\n",
    "  au.scroll(-1)\n",
    "  au.sleep(1)\n",
    "  j[nameS] = link\n",
    "  print(nameS+\":\"+link)"
   ]
  },
  {
   "cell_type": "code",
   "execution_count": null,
   "metadata": {},
   "outputs": [],
   "source": [
    "j={}\n"
   ]
  },
  {
   "cell_type": "code",
   "execution_count": null,
   "metadata": {},
   "outputs": [],
   "source": [
    "au.sleep(4)\n",
    "for _ in range(50):\n",
    "  getCalendar()"
   ]
  },
  {
   "cell_type": "code",
   "execution_count": null,
   "metadata": {},
   "outputs": [],
   "source": [
    "au.sleep(3)\n",
    "getCalendar()"
   ]
  },
  {
   "cell_type": "code",
   "execution_count": null,
   "metadata": {},
   "outputs": [],
   "source": [
    "au.position()"
   ]
  },
  {
   "cell_type": "code",
   "execution_count": null,
   "metadata": {},
   "outputs": [],
   "source": [
    "len(j)"
   ]
  },
  {
   "cell_type": "code",
   "execution_count": null,
   "metadata": {},
   "outputs": [],
   "source": [
    "with open(\"Caltlink.csv\", 'w') as f:\n",
    "  for k in j:\n",
    "    f.write(k + \",\" + j[k] + '\\n')"
   ]
  },
  {
   "cell_type": "code",
   "execution_count": null,
   "metadata": {},
   "outputs": [],
   "source": [
    "j.pop(list(j.keys())[-1], None)"
   ]
  },
  {
   "cell_type": "code",
   "execution_count": null,
   "metadata": {},
   "outputs": [],
   "source": []
  }
 ],
 "metadata": {
  "interpreter": {
   "hash": "ce3b69add7b1d4c4c4b84854930ce26df9fa87a7352a061b027cd60ce4546ed9"
  },
  "kernelspec": {
   "display_name": "Python 3.8.5 64-bit ('main': venv)",
   "name": "python3"
  },
  "language_info": {
   "codemirror_mode": {
    "name": "ipython",
    "version": 3
   },
   "file_extension": ".py",
   "mimetype": "text/x-python",
   "name": "python",
   "nbconvert_exporter": "python",
   "pygments_lexer": "ipython3",
   "version": "3.8.5"
  },
  "orig_nbformat": 4
 },
 "nbformat": 4,
 "nbformat_minor": 2
}
